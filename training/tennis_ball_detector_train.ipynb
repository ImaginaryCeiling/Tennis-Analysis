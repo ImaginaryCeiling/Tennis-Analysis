{
 "cells": [
  {
   "cell_type": "markdown",
   "metadata": {},
   "source": [
    "# Get Dataset"
   ]
  },
  {
   "cell_type": "code",
   "execution_count": 5,
   "metadata": {},
   "outputs": [
    {
     "name": "stdout",
     "output_type": "stream",
     "text": [
      "Requirement already satisfied: ultralytics in /Users/arnavchauhan/Desktop/Projects/Tennis-Analysis/Tennis-Analysis/lib/python3.9/site-packages (8.2.46)\n",
      "Requirement already satisfied: pyyaml>=5.3.1 in /Users/arnavchauhan/Desktop/Projects/Tennis-Analysis/Tennis-Analysis/lib/python3.9/site-packages (from ultralytics) (6.0.1)\n",
      "Requirement already satisfied: torchvision>=0.9.0 in /Users/arnavchauhan/Desktop/Projects/Tennis-Analysis/Tennis-Analysis/lib/python3.9/site-packages (from ultralytics) (0.18.1)\n",
      "Requirement already satisfied: opencv-python>=4.6.0 in /Users/arnavchauhan/Desktop/Projects/Tennis-Analysis/Tennis-Analysis/lib/python3.9/site-packages (from ultralytics) (4.10.0.84)\n",
      "Requirement already satisfied: pandas>=1.1.4 in /Users/arnavchauhan/Desktop/Projects/Tennis-Analysis/Tennis-Analysis/lib/python3.9/site-packages (from ultralytics) (2.2.2)\n",
      "Requirement already satisfied: psutil in /Users/arnavchauhan/Desktop/Projects/Tennis-Analysis/Tennis-Analysis/lib/python3.9/site-packages (from ultralytics) (6.0.0)\n",
      "Requirement already satisfied: ultralytics-thop>=2.0.0 in /Users/arnavchauhan/Desktop/Projects/Tennis-Analysis/Tennis-Analysis/lib/python3.9/site-packages (from ultralytics) (2.0.0)\n",
      "Requirement already satisfied: numpy<2.0.0,>=1.23.0 in /Users/arnavchauhan/Desktop/Projects/Tennis-Analysis/Tennis-Analysis/lib/python3.9/site-packages (from ultralytics) (1.26.4)\n",
      "Requirement already satisfied: pillow>=7.1.2 in /Users/arnavchauhan/Desktop/Projects/Tennis-Analysis/Tennis-Analysis/lib/python3.9/site-packages (from ultralytics) (10.3.0)\n",
      "Requirement already satisfied: scipy>=1.4.1 in /Users/arnavchauhan/Desktop/Projects/Tennis-Analysis/Tennis-Analysis/lib/python3.9/site-packages (from ultralytics) (1.13.1)\n",
      "Requirement already satisfied: matplotlib>=3.3.0 in /Users/arnavchauhan/Desktop/Projects/Tennis-Analysis/Tennis-Analysis/lib/python3.9/site-packages (from ultralytics) (3.9.0)\n",
      "Requirement already satisfied: torch>=1.8.0 in /Users/arnavchauhan/Desktop/Projects/Tennis-Analysis/Tennis-Analysis/lib/python3.9/site-packages (from ultralytics) (2.3.1)\n",
      "Requirement already satisfied: tqdm>=4.64.0 in /Users/arnavchauhan/Desktop/Projects/Tennis-Analysis/Tennis-Analysis/lib/python3.9/site-packages (from ultralytics) (4.66.4)\n",
      "Requirement already satisfied: requests>=2.23.0 in /Users/arnavchauhan/Desktop/Projects/Tennis-Analysis/Tennis-Analysis/lib/python3.9/site-packages (from ultralytics) (2.32.3)\n",
      "Requirement already satisfied: py-cpuinfo in /Users/arnavchauhan/Desktop/Projects/Tennis-Analysis/Tennis-Analysis/lib/python3.9/site-packages (from ultralytics) (9.0.0)\n",
      "Requirement already satisfied: seaborn>=0.11.0 in /Users/arnavchauhan/Desktop/Projects/Tennis-Analysis/Tennis-Analysis/lib/python3.9/site-packages (from ultralytics) (0.13.2)\n",
      "Requirement already satisfied: importlib-resources>=3.2.0 in /Users/arnavchauhan/Desktop/Projects/Tennis-Analysis/Tennis-Analysis/lib/python3.9/site-packages (from matplotlib>=3.3.0->ultralytics) (6.4.0)\n",
      "Requirement already satisfied: pyparsing>=2.3.1 in /Users/arnavchauhan/Desktop/Projects/Tennis-Analysis/Tennis-Analysis/lib/python3.9/site-packages (from matplotlib>=3.3.0->ultralytics) (3.1.2)\n",
      "Requirement already satisfied: kiwisolver>=1.3.1 in /Users/arnavchauhan/Desktop/Projects/Tennis-Analysis/Tennis-Analysis/lib/python3.9/site-packages (from matplotlib>=3.3.0->ultralytics) (1.4.5)\n",
      "Requirement already satisfied: fonttools>=4.22.0 in /Users/arnavchauhan/Desktop/Projects/Tennis-Analysis/Tennis-Analysis/lib/python3.9/site-packages (from matplotlib>=3.3.0->ultralytics) (4.53.0)\n",
      "Requirement already satisfied: cycler>=0.10 in /Users/arnavchauhan/Desktop/Projects/Tennis-Analysis/Tennis-Analysis/lib/python3.9/site-packages (from matplotlib>=3.3.0->ultralytics) (0.12.1)\n",
      "Requirement already satisfied: contourpy>=1.0.1 in /Users/arnavchauhan/Desktop/Projects/Tennis-Analysis/Tennis-Analysis/lib/python3.9/site-packages (from matplotlib>=3.3.0->ultralytics) (1.2.1)\n",
      "Requirement already satisfied: packaging>=20.0 in /Users/arnavchauhan/Desktop/Projects/Tennis-Analysis/Tennis-Analysis/lib/python3.9/site-packages (from matplotlib>=3.3.0->ultralytics) (24.1)\n",
      "Requirement already satisfied: python-dateutil>=2.7 in /Users/arnavchauhan/Desktop/Projects/Tennis-Analysis/Tennis-Analysis/lib/python3.9/site-packages (from matplotlib>=3.3.0->ultralytics) (2.9.0.post0)\n",
      "Requirement already satisfied: zipp>=3.1.0 in /Users/arnavchauhan/Desktop/Projects/Tennis-Analysis/Tennis-Analysis/lib/python3.9/site-packages (from importlib-resources>=3.2.0->matplotlib>=3.3.0->ultralytics) (3.19.2)\n",
      "Requirement already satisfied: pytz>=2020.1 in /Users/arnavchauhan/Desktop/Projects/Tennis-Analysis/Tennis-Analysis/lib/python3.9/site-packages (from pandas>=1.1.4->ultralytics) (2024.1)\n",
      "Requirement already satisfied: tzdata>=2022.7 in /Users/arnavchauhan/Desktop/Projects/Tennis-Analysis/Tennis-Analysis/lib/python3.9/site-packages (from pandas>=1.1.4->ultralytics) (2024.1)\n",
      "Requirement already satisfied: six>=1.5 in /Users/arnavchauhan/Desktop/Projects/Tennis-Analysis/Tennis-Analysis/lib/python3.9/site-packages (from python-dateutil>=2.7->matplotlib>=3.3.0->ultralytics) (1.16.0)\n",
      "Requirement already satisfied: certifi>=2017.4.17 in /Users/arnavchauhan/Desktop/Projects/Tennis-Analysis/Tennis-Analysis/lib/python3.9/site-packages (from requests>=2.23.0->ultralytics) (2024.6.2)\n",
      "Requirement already satisfied: idna<4,>=2.5 in /Users/arnavchauhan/Desktop/Projects/Tennis-Analysis/Tennis-Analysis/lib/python3.9/site-packages (from requests>=2.23.0->ultralytics) (3.7)\n",
      "Requirement already satisfied: urllib3<3,>=1.21.1 in /Users/arnavchauhan/Desktop/Projects/Tennis-Analysis/Tennis-Analysis/lib/python3.9/site-packages (from requests>=2.23.0->ultralytics) (2.2.2)\n",
      "Requirement already satisfied: charset-normalizer<4,>=2 in /Users/arnavchauhan/Desktop/Projects/Tennis-Analysis/Tennis-Analysis/lib/python3.9/site-packages (from requests>=2.23.0->ultralytics) (3.3.2)\n",
      "Requirement already satisfied: filelock in /Users/arnavchauhan/Desktop/Projects/Tennis-Analysis/Tennis-Analysis/lib/python3.9/site-packages (from torch>=1.8.0->ultralytics) (3.15.4)\n",
      "Requirement already satisfied: fsspec in /Users/arnavchauhan/Desktop/Projects/Tennis-Analysis/Tennis-Analysis/lib/python3.9/site-packages (from torch>=1.8.0->ultralytics) (2024.6.1)\n",
      "Requirement already satisfied: networkx in /Users/arnavchauhan/Desktop/Projects/Tennis-Analysis/Tennis-Analysis/lib/python3.9/site-packages (from torch>=1.8.0->ultralytics) (3.2.1)\n",
      "Requirement already satisfied: jinja2 in /Users/arnavchauhan/Desktop/Projects/Tennis-Analysis/Tennis-Analysis/lib/python3.9/site-packages (from torch>=1.8.0->ultralytics) (3.1.4)\n",
      "Requirement already satisfied: sympy in /Users/arnavchauhan/Desktop/Projects/Tennis-Analysis/Tennis-Analysis/lib/python3.9/site-packages (from torch>=1.8.0->ultralytics) (1.12.1)\n",
      "Requirement already satisfied: typing-extensions>=4.8.0 in /Users/arnavchauhan/Desktop/Projects/Tennis-Analysis/Tennis-Analysis/lib/python3.9/site-packages (from torch>=1.8.0->ultralytics) (4.12.2)\n",
      "Requirement already satisfied: MarkupSafe>=2.0 in /Users/arnavchauhan/Desktop/Projects/Tennis-Analysis/Tennis-Analysis/lib/python3.9/site-packages (from jinja2->torch>=1.8.0->ultralytics) (2.1.5)\n",
      "Requirement already satisfied: mpmath<1.4.0,>=1.1.0 in /Users/arnavchauhan/Desktop/Projects/Tennis-Analysis/Tennis-Analysis/lib/python3.9/site-packages (from sympy->torch>=1.8.0->ultralytics) (1.3.0)\n",
      "\u001b[33mWARNING: You are using pip version 21.2.4; however, version 24.1.1 is available.\n",
      "You should consider upgrading via the '/Users/arnavchauhan/Desktop/Projects/Tennis-Analysis/Tennis-Analysis/bin/python3 -m pip install --upgrade pip' command.\u001b[0m\n"
     ]
    }
   ],
   "source": [
    "!pip3 install ultralytics"
   ]
  },
  {
   "cell_type": "code",
   "execution_count": 1,
   "metadata": {},
   "outputs": [
    {
     "name": "stdout",
     "output_type": "stream",
     "text": [
      "Collecting roboflow\n",
      "  Downloading roboflow-1.1.33-py3-none-any.whl (75 kB)\n",
      "\u001b[K     |████████████████████████████████| 75 kB 2.1 MB/s eta 0:00:011\n",
      "\u001b[?25hRequirement already satisfied: six in /Users/arnavchauhan/Desktop/Projects/Tennis-Analysis/Tennis-Analysis/lib/python3.9/site-packages (from roboflow) (1.16.0)\n",
      "Collecting opencv-python-headless==4.10.0.84\n",
      "  Downloading opencv_python_headless-4.10.0.84-cp37-abi3-macosx_11_0_arm64.whl (54.8 MB)\n",
      "\u001b[K     |████████████████████████████████| 54.8 MB 6.7 MB/s eta 0:00:01\n",
      "\u001b[?25hRequirement already satisfied: certifi in /Users/arnavchauhan/Desktop/Projects/Tennis-Analysis/Tennis-Analysis/lib/python3.9/site-packages (from roboflow) (2024.6.2)\n",
      "Collecting python-dotenv\n",
      "  Downloading python_dotenv-1.0.1-py3-none-any.whl (19 kB)\n",
      "Requirement already satisfied: kiwisolver>=1.3.1 in /Users/arnavchauhan/Desktop/Projects/Tennis-Analysis/Tennis-Analysis/lib/python3.9/site-packages (from roboflow) (1.4.5)\n",
      "Requirement already satisfied: matplotlib in /Users/arnavchauhan/Desktop/Projects/Tennis-Analysis/Tennis-Analysis/lib/python3.9/site-packages (from roboflow) (3.9.0)\n",
      "Requirement already satisfied: Pillow>=7.1.2 in /Users/arnavchauhan/Desktop/Projects/Tennis-Analysis/Tennis-Analysis/lib/python3.9/site-packages (from roboflow) (10.3.0)\n",
      "Collecting chardet==4.0.0\n",
      "  Downloading chardet-4.0.0-py2.py3-none-any.whl (178 kB)\n",
      "\u001b[K     |████████████████████████████████| 178 kB 776 kB/s eta 0:00:01\n",
      "\u001b[?25hRequirement already satisfied: python-dateutil in /Users/arnavchauhan/Desktop/Projects/Tennis-Analysis/Tennis-Analysis/lib/python3.9/site-packages (from roboflow) (2.9.0.post0)\n",
      "Requirement already satisfied: cycler in /Users/arnavchauhan/Desktop/Projects/Tennis-Analysis/Tennis-Analysis/lib/python3.9/site-packages (from roboflow) (0.12.1)\n",
      "Requirement already satisfied: idna==3.7 in /Users/arnavchauhan/Desktop/Projects/Tennis-Analysis/Tennis-Analysis/lib/python3.9/site-packages (from roboflow) (3.7)\n",
      "Requirement already satisfied: numpy>=1.18.5 in /Users/arnavchauhan/Desktop/Projects/Tennis-Analysis/Tennis-Analysis/lib/python3.9/site-packages (from roboflow) (1.26.4)\n",
      "Requirement already satisfied: tqdm>=4.41.0 in /Users/arnavchauhan/Desktop/Projects/Tennis-Analysis/Tennis-Analysis/lib/python3.9/site-packages (from roboflow) (4.66.4)\n",
      "Requirement already satisfied: urllib3>=1.26.6 in /Users/arnavchauhan/Desktop/Projects/Tennis-Analysis/Tennis-Analysis/lib/python3.9/site-packages (from roboflow) (2.2.2)\n",
      "Collecting requests-toolbelt\n",
      "  Downloading requests_toolbelt-1.0.0-py2.py3-none-any.whl (54 kB)\n",
      "\u001b[K     |████████████████████████████████| 54 kB 4.7 MB/s eta 0:00:01\n",
      "\u001b[?25hRequirement already satisfied: requests in /Users/arnavchauhan/Desktop/Projects/Tennis-Analysis/Tennis-Analysis/lib/python3.9/site-packages (from roboflow) (2.32.3)\n",
      "Requirement already satisfied: PyYAML>=5.3.1 in /Users/arnavchauhan/Desktop/Projects/Tennis-Analysis/Tennis-Analysis/lib/python3.9/site-packages (from roboflow) (6.0.1)\n",
      "Collecting python-magic\n",
      "  Downloading python_magic-0.4.27-py2.py3-none-any.whl (13 kB)\n",
      "Requirement already satisfied: importlib-resources>=3.2.0 in /Users/arnavchauhan/Desktop/Projects/Tennis-Analysis/Tennis-Analysis/lib/python3.9/site-packages (from matplotlib->roboflow) (6.4.0)\n",
      "Requirement already satisfied: packaging>=20.0 in /Users/arnavchauhan/Desktop/Projects/Tennis-Analysis/Tennis-Analysis/lib/python3.9/site-packages (from matplotlib->roboflow) (24.1)\n",
      "Requirement already satisfied: pyparsing>=2.3.1 in /Users/arnavchauhan/Desktop/Projects/Tennis-Analysis/Tennis-Analysis/lib/python3.9/site-packages (from matplotlib->roboflow) (3.1.2)\n",
      "Requirement already satisfied: fonttools>=4.22.0 in /Users/arnavchauhan/Desktop/Projects/Tennis-Analysis/Tennis-Analysis/lib/python3.9/site-packages (from matplotlib->roboflow) (4.53.0)\n",
      "Requirement already satisfied: contourpy>=1.0.1 in /Users/arnavchauhan/Desktop/Projects/Tennis-Analysis/Tennis-Analysis/lib/python3.9/site-packages (from matplotlib->roboflow) (1.2.1)\n",
      "Requirement already satisfied: zipp>=3.1.0 in /Users/arnavchauhan/Desktop/Projects/Tennis-Analysis/Tennis-Analysis/lib/python3.9/site-packages (from importlib-resources>=3.2.0->matplotlib->roboflow) (3.19.2)\n",
      "Requirement already satisfied: charset-normalizer<4,>=2 in /Users/arnavchauhan/Desktop/Projects/Tennis-Analysis/Tennis-Analysis/lib/python3.9/site-packages (from requests->roboflow) (3.3.2)\n",
      "Installing collected packages: requests-toolbelt, python-magic, python-dotenv, opencv-python-headless, chardet, roboflow\n",
      "Successfully installed chardet-4.0.0 opencv-python-headless-4.10.0.84 python-dotenv-1.0.1 python-magic-0.4.27 requests-toolbelt-1.0.0 roboflow-1.1.33\n",
      "\u001b[33mWARNING: You are using pip version 21.2.4; however, version 24.1.1 is available.\n",
      "You should consider upgrading via the '/Users/arnavchauhan/Desktop/Projects/Tennis-Analysis/Tennis-Analysis/bin/python3 -m pip install --upgrade pip' command.\u001b[0m\n"
     ]
    },
    {
     "name": "stderr",
     "output_type": "stream",
     "text": [
      "/Users/arnavchauhan/Desktop/Projects/Tennis-Analysis/Tennis-Analysis/lib/python3.9/site-packages/urllib3/__init__.py:35: NotOpenSSLWarning: urllib3 v2 only supports OpenSSL 1.1.1+, currently the 'ssl' module is compiled with 'LibreSSL 2.8.3'. See: https://github.com/urllib3/urllib3/issues/3020\n",
      "  warnings.warn(\n"
     ]
    },
    {
     "name": "stdout",
     "output_type": "stream",
     "text": [
      "loading Roboflow workspace...\n",
      "loading Roboflow project...\n"
     ]
    },
    {
     "name": "stderr",
     "output_type": "stream",
     "text": [
      "Downloading Dataset Version Zip in tennis-ball-detection-6 to yolov5pytorch:: 100%|██████████| 52040/52040 [00:08<00:00, 6168.80it/s]"
     ]
    },
    {
     "name": "stdout",
     "output_type": "stream",
     "text": [
      "\n"
     ]
    },
    {
     "name": "stderr",
     "output_type": "stream",
     "text": [
      "\n",
      "Extracting Dataset Version Zip to tennis-ball-detection-6 in yolov5pytorch:: 100%|██████████| 1168/1168 [00:00<00:00, 7387.78it/s]\n"
     ]
    }
   ],
   "source": [
    "!pip3 install roboflow\n",
    "\n",
    "from roboflow import Roboflow\n",
    "rf = Roboflow(api_key=\"2c1VItqmwBi2o3YEzgSe\")\n",
    "project = rf.workspace(\"viren-dhanwani\").project(\"tennis-ball-detection\")\n",
    "version = project.version(6)\n",
    "dataset = version.download(\"yolov5\")\n"
   ]
  },
  {
   "cell_type": "code",
   "execution_count": 2,
   "metadata": {},
   "outputs": [],
   "source": [
    "import shutil"
   ]
  },
  {
   "cell_type": "code",
   "execution_count": 3,
   "metadata": {},
   "outputs": [
    {
     "data": {
      "text/plain": [
       "'tennis-ball-detection-6/tennis-ball-detection-6/valid'"
      ]
     },
     "execution_count": 3,
     "metadata": {},
     "output_type": "execute_result"
    }
   ],
   "source": [
    "shutil.move(\"tennis-ball-detection-6/train\", \"tennis-ball-detection-6/tennis-ball-detection-6/train\",)\n",
    "shutil.move(\"tennis-ball-detection-6/test\", \"tennis-ball-detection-6/tennis-ball-detection-6/test\",)\n",
    "shutil.move(\"tennis-ball-detection-6/valid\", \"tennis-ball-detection-6/tennis-ball-detection-6/valid\",)"
   ]
  },
  {
   "cell_type": "markdown",
   "metadata": {},
   "source": []
  },
  {
   "cell_type": "code",
   "execution_count": 6,
   "metadata": {},
   "outputs": [
    {
     "name": "stdout",
     "output_type": "stream",
     "text": [
      "/Users/arnavchauhan/Desktop/Projects/Tennis-Analysis/Tennis-Analysis/lib/python3.9/site-packages/urllib3/__init__.py:35: NotOpenSSLWarning: urllib3 v2 only supports OpenSSL 1.1.1+, currently the 'ssl' module is compiled with 'LibreSSL 2.8.3'. See: https://github.com/urllib3/urllib3/issues/3020\n",
      "  warnings.warn(\n",
      "Traceback (most recent call last):\n",
      "  File \"/Users/arnavchauhan/Desktop/Projects/Tennis-Analysis/Tennis-Analysis/bin/yolo\", line 8, in <module>\n",
      "    sys.exit(entrypoint())\n",
      "  File \"/Users/arnavchauhan/Desktop/Projects/Tennis-Analysis/Tennis-Analysis/lib/python3.9/site-packages/ultralytics/cfg/__init__.py\", line 564, in entrypoint\n",
      "    model = YOLO(model, task=task)\n",
      "  File \"/Users/arnavchauhan/Desktop/Projects/Tennis-Analysis/Tennis-Analysis/lib/python3.9/site-packages/ultralytics/models/yolo/model.py\", line 23, in __init__\n",
      "    super().__init__(model=model, task=task, verbose=verbose)\n",
      "  File \"/Users/arnavchauhan/Desktop/Projects/Tennis-Analysis/Tennis-Analysis/lib/python3.9/site-packages/ultralytics/engine/model.py\", line 149, in __init__\n",
      "    self._load(model, task=task)\n",
      "  File \"/Users/arnavchauhan/Desktop/Projects/Tennis-Analysis/Tennis-Analysis/lib/python3.9/site-packages/ultralytics/engine/model.py\", line 230, in _load\n",
      "    self.model, self.ckpt = attempt_load_one_weight(weights)\n",
      "  File \"/Users/arnavchauhan/Desktop/Projects/Tennis-Analysis/Tennis-Analysis/lib/python3.9/site-packages/ultralytics/nn/tasks.py\", line 855, in attempt_load_one_weight\n",
      "    ckpt, weight = torch_safe_load(weight)  # load ckpt\n",
      "  File \"/Users/arnavchauhan/Desktop/Projects/Tennis-Analysis/Tennis-Analysis/lib/python3.9/site-packages/ultralytics/nn/tasks.py\", line 781, in torch_safe_load\n",
      "    ckpt = torch.load(file, map_location=\"cpu\")\n",
      "  File \"/Users/arnavchauhan/Desktop/Projects/Tennis-Analysis/Tennis-Analysis/lib/python3.9/site-packages/torch/serialization.py\", line 997, in load\n",
      "    with _open_file_like(f, 'rb') as opened_file:\n",
      "  File \"/Users/arnavchauhan/Desktop/Projects/Tennis-Analysis/Tennis-Analysis/lib/python3.9/site-packages/torch/serialization.py\", line 444, in _open_file_like\n",
      "    return _open_file(name_or_buffer, mode)\n",
      "  File \"/Users/arnavchauhan/Desktop/Projects/Tennis-Analysis/Tennis-Analysis/lib/python3.9/site-packages/torch/serialization.py\", line 425, in __init__\n",
      "    super().__init__(open(name, mode))\n",
      "FileNotFoundError: [Errno 2] No such file or directory: 'yolo516u.pt'\n"
     ]
    }
   ],
   "source": [
    "!yolo task=detect mode=train model=yolo516u.pt data={dataset.location}/data.yaml epochs=100 imgsz=640"
   ]
  }
 ],
 "metadata": {
  "kernelspec": {
   "display_name": "Tennis-Analysis",
   "language": "python",
   "name": "python3"
  },
  "language_info": {
   "codemirror_mode": {
    "name": "ipython",
    "version": 3
   },
   "file_extension": ".py",
   "mimetype": "text/x-python",
   "name": "python",
   "nbconvert_exporter": "python",
   "pygments_lexer": "ipython3",
   "version": "3.9.6"
  }
 },
 "nbformat": 4,
 "nbformat_minor": 2
}
