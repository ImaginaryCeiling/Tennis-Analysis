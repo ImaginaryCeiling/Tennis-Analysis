{
 "cells": [
  {
   "cell_type": "markdown",
   "metadata": {},
   "source": [
    "# Get Dataset"
   ]
  },
  {
   "cell_type": "code",
   "execution_count": 1,
   "metadata": {},
   "outputs": [
    {
     "name": "stdout",
     "output_type": "stream",
     "text": [
      "Collecting roboflow\n",
      "  Downloading roboflow-1.1.33-py3-none-any.whl (75 kB)\n",
      "\u001b[K     |████████████████████████████████| 75 kB 2.1 MB/s eta 0:00:011\n",
      "\u001b[?25hRequirement already satisfied: six in /Users/arnavchauhan/Desktop/Projects/Tennis-Analysis/Tennis-Analysis/lib/python3.9/site-packages (from roboflow) (1.16.0)\n",
      "Collecting opencv-python-headless==4.10.0.84\n",
      "  Downloading opencv_python_headless-4.10.0.84-cp37-abi3-macosx_11_0_arm64.whl (54.8 MB)\n",
      "\u001b[K     |████████████████████████████████| 54.8 MB 6.7 MB/s eta 0:00:01\n",
      "\u001b[?25hRequirement already satisfied: certifi in /Users/arnavchauhan/Desktop/Projects/Tennis-Analysis/Tennis-Analysis/lib/python3.9/site-packages (from roboflow) (2024.6.2)\n",
      "Collecting python-dotenv\n",
      "  Downloading python_dotenv-1.0.1-py3-none-any.whl (19 kB)\n",
      "Requirement already satisfied: kiwisolver>=1.3.1 in /Users/arnavchauhan/Desktop/Projects/Tennis-Analysis/Tennis-Analysis/lib/python3.9/site-packages (from roboflow) (1.4.5)\n",
      "Requirement already satisfied: matplotlib in /Users/arnavchauhan/Desktop/Projects/Tennis-Analysis/Tennis-Analysis/lib/python3.9/site-packages (from roboflow) (3.9.0)\n",
      "Requirement already satisfied: Pillow>=7.1.2 in /Users/arnavchauhan/Desktop/Projects/Tennis-Analysis/Tennis-Analysis/lib/python3.9/site-packages (from roboflow) (10.3.0)\n",
      "Collecting chardet==4.0.0\n",
      "  Downloading chardet-4.0.0-py2.py3-none-any.whl (178 kB)\n",
      "\u001b[K     |████████████████████████████████| 178 kB 776 kB/s eta 0:00:01\n",
      "\u001b[?25hRequirement already satisfied: python-dateutil in /Users/arnavchauhan/Desktop/Projects/Tennis-Analysis/Tennis-Analysis/lib/python3.9/site-packages (from roboflow) (2.9.0.post0)\n",
      "Requirement already satisfied: cycler in /Users/arnavchauhan/Desktop/Projects/Tennis-Analysis/Tennis-Analysis/lib/python3.9/site-packages (from roboflow) (0.12.1)\n",
      "Requirement already satisfied: idna==3.7 in /Users/arnavchauhan/Desktop/Projects/Tennis-Analysis/Tennis-Analysis/lib/python3.9/site-packages (from roboflow) (3.7)\n",
      "Requirement already satisfied: numpy>=1.18.5 in /Users/arnavchauhan/Desktop/Projects/Tennis-Analysis/Tennis-Analysis/lib/python3.9/site-packages (from roboflow) (1.26.4)\n",
      "Requirement already satisfied: tqdm>=4.41.0 in /Users/arnavchauhan/Desktop/Projects/Tennis-Analysis/Tennis-Analysis/lib/python3.9/site-packages (from roboflow) (4.66.4)\n",
      "Requirement already satisfied: urllib3>=1.26.6 in /Users/arnavchauhan/Desktop/Projects/Tennis-Analysis/Tennis-Analysis/lib/python3.9/site-packages (from roboflow) (2.2.2)\n",
      "Collecting requests-toolbelt\n",
      "  Downloading requests_toolbelt-1.0.0-py2.py3-none-any.whl (54 kB)\n",
      "\u001b[K     |████████████████████████████████| 54 kB 4.7 MB/s eta 0:00:01\n",
      "\u001b[?25hRequirement already satisfied: requests in /Users/arnavchauhan/Desktop/Projects/Tennis-Analysis/Tennis-Analysis/lib/python3.9/site-packages (from roboflow) (2.32.3)\n",
      "Requirement already satisfied: PyYAML>=5.3.1 in /Users/arnavchauhan/Desktop/Projects/Tennis-Analysis/Tennis-Analysis/lib/python3.9/site-packages (from roboflow) (6.0.1)\n",
      "Collecting python-magic\n",
      "  Downloading python_magic-0.4.27-py2.py3-none-any.whl (13 kB)\n",
      "Requirement already satisfied: importlib-resources>=3.2.0 in /Users/arnavchauhan/Desktop/Projects/Tennis-Analysis/Tennis-Analysis/lib/python3.9/site-packages (from matplotlib->roboflow) (6.4.0)\n",
      "Requirement already satisfied: packaging>=20.0 in /Users/arnavchauhan/Desktop/Projects/Tennis-Analysis/Tennis-Analysis/lib/python3.9/site-packages (from matplotlib->roboflow) (24.1)\n",
      "Requirement already satisfied: pyparsing>=2.3.1 in /Users/arnavchauhan/Desktop/Projects/Tennis-Analysis/Tennis-Analysis/lib/python3.9/site-packages (from matplotlib->roboflow) (3.1.2)\n",
      "Requirement already satisfied: fonttools>=4.22.0 in /Users/arnavchauhan/Desktop/Projects/Tennis-Analysis/Tennis-Analysis/lib/python3.9/site-packages (from matplotlib->roboflow) (4.53.0)\n",
      "Requirement already satisfied: contourpy>=1.0.1 in /Users/arnavchauhan/Desktop/Projects/Tennis-Analysis/Tennis-Analysis/lib/python3.9/site-packages (from matplotlib->roboflow) (1.2.1)\n",
      "Requirement already satisfied: zipp>=3.1.0 in /Users/arnavchauhan/Desktop/Projects/Tennis-Analysis/Tennis-Analysis/lib/python3.9/site-packages (from importlib-resources>=3.2.0->matplotlib->roboflow) (3.19.2)\n",
      "Requirement already satisfied: charset-normalizer<4,>=2 in /Users/arnavchauhan/Desktop/Projects/Tennis-Analysis/Tennis-Analysis/lib/python3.9/site-packages (from requests->roboflow) (3.3.2)\n",
      "Installing collected packages: requests-toolbelt, python-magic, python-dotenv, opencv-python-headless, chardet, roboflow\n",
      "Successfully installed chardet-4.0.0 opencv-python-headless-4.10.0.84 python-dotenv-1.0.1 python-magic-0.4.27 requests-toolbelt-1.0.0 roboflow-1.1.33\n",
      "\u001b[33mWARNING: You are using pip version 21.2.4; however, version 24.1.1 is available.\n",
      "You should consider upgrading via the '/Users/arnavchauhan/Desktop/Projects/Tennis-Analysis/Tennis-Analysis/bin/python3 -m pip install --upgrade pip' command.\u001b[0m\n"
     ]
    },
    {
     "name": "stderr",
     "output_type": "stream",
     "text": [
      "/Users/arnavchauhan/Desktop/Projects/Tennis-Analysis/Tennis-Analysis/lib/python3.9/site-packages/urllib3/__init__.py:35: NotOpenSSLWarning: urllib3 v2 only supports OpenSSL 1.1.1+, currently the 'ssl' module is compiled with 'LibreSSL 2.8.3'. See: https://github.com/urllib3/urllib3/issues/3020\n",
      "  warnings.warn(\n"
     ]
    },
    {
     "name": "stdout",
     "output_type": "stream",
     "text": [
      "loading Roboflow workspace...\n",
      "loading Roboflow project...\n"
     ]
    },
    {
     "name": "stderr",
     "output_type": "stream",
     "text": [
      "Downloading Dataset Version Zip in tennis-ball-detection-6 to yolov5pytorch:: 100%|██████████| 52040/52040 [00:08<00:00, 6168.80it/s]"
     ]
    },
    {
     "name": "stdout",
     "output_type": "stream",
     "text": [
      "\n"
     ]
    },
    {
     "name": "stderr",
     "output_type": "stream",
     "text": [
      "\n",
      "Extracting Dataset Version Zip to tennis-ball-detection-6 in yolov5pytorch:: 100%|██████████| 1168/1168 [00:00<00:00, 7387.78it/s]\n"
     ]
    }
   ],
   "source": [
    "!pip3 install roboflow\n",
    "\n",
    "from roboflow import Roboflow\n",
    "rf = Roboflow(api_key=\"2c1VItqmwBi2o3YEzgSe\")\n",
    "project = rf.workspace(\"viren-dhanwani\").project(\"tennis-ball-detection\")\n",
    "version = project.version(6)\n",
    "dataset = version.download(\"yolov5\")\n"
   ]
  },
  {
   "cell_type": "code",
   "execution_count": 2,
   "metadata": {},
   "outputs": [],
   "source": [
    "import shutil"
   ]
  },
  {
   "cell_type": "code",
   "execution_count": 3,
   "metadata": {},
   "outputs": [
    {
     "data": {
      "text/plain": [
       "'tennis-ball-detection-6/tennis-ball-detection-6/valid'"
      ]
     },
     "execution_count": 3,
     "metadata": {},
     "output_type": "execute_result"
    }
   ],
   "source": [
    "shutil.move(\"tennis-ball-detection-6/train\", \"tennis-ball-detection-6/tennis-ball-detection-6/train\",)\n",
    "shutil.move(\"tennis-ball-detection-6/test\", \"tennis-ball-detection-6/tennis-ball-detection-6/test\",)\n",
    "shutil.move(\"tennis-ball-detection-6/valid\", \"tennis-ball-detection-6/tennis-ball-detection-6/valid\",)"
   ]
  }
 ],
 "metadata": {
  "kernelspec": {
   "display_name": "Tennis-Analysis",
   "language": "python",
   "name": "python3"
  },
  "language_info": {
   "codemirror_mode": {
    "name": "ipython",
    "version": 3
   },
   "file_extension": ".py",
   "mimetype": "text/x-python",
   "name": "python",
   "nbconvert_exporter": "python",
   "pygments_lexer": "ipython3",
   "version": "3.9.6"
  }
 },
 "nbformat": 4,
 "nbformat_minor": 2
}
